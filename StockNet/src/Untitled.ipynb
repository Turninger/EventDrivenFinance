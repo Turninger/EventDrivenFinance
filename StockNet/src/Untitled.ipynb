{
 "cells": [
  {
   "cell_type": "code",
   "execution_count": 1,
   "id": "902add4a",
   "metadata": {
    "scrolled": true
   },
   "outputs": [
    {
     "name": "stdout",
     "output_type": "stream",
     "text": [
      "True\n"
     ]
    }
   ],
   "source": [
    "import torch\n",
    "print(torch.cuda.is_available())"
   ]
  },
  {
   "cell_type": "code",
   "execution_count": 3,
   "id": "ce575ee5",
   "metadata": {
    "scrolled": true
   },
   "outputs": [
    {
     "ename": "SyntaxError",
     "evalue": "(unicode error) 'unicodeescape' codec can't decode bytes in position 2-3: truncated \\UXXXXXXXX escape (<ipython-input-3-875286686c1d>, line 4)",
     "output_type": "error",
     "traceback": [
      "\u001B[1;36m  File \u001B[1;32m\"<ipython-input-3-875286686c1d>\"\u001B[1;36m, line \u001B[1;32m4\u001B[0m\n\u001B[1;33m    with open('C:\\Users\\86150\\Desktop\\项目\\pytorch-stocknet-code-master\\checkpoints\\all_days-5.msgs-30-words-40_word_embed-glove.vmd_in-hedge_alpha-0.5.anneal-0.0005.rec-zh_batch-32.opt-adam.lr-0.0001-drop-0.3-cell-gru_v2\\train.log', 'r') as f:\u001B[0m\n\u001B[1;37m             ^\u001B[0m\n\u001B[1;31mSyntaxError\u001B[0m\u001B[1;31m:\u001B[0m (unicode error) 'unicodeescape' codec can't decode bytes in position 2-3: truncated \\UXXXXXXXX escape\n"
     ]
    }
   ],
   "source": [
    "import re\n",
    "\n",
    "# 读取train.log文件\n",
    "with open('C:\\Users\\86150\\Desktop\\项目\\pytorch-stocknet-code-master\\checkpoints\\all_days-5.msgs-30-words-40_word_embed-glove.vmd_in-hedge_alpha-0.5.anneal-0.0005.rec-zh_batch-32.opt-adam.lr-0.0001-drop-0.3-cell-gru_v2\\train.log', 'r') as f:\n",
    "    log_content = f.read()\n",
    "\n",
    "# 使用正则表达式匹配train_loss和train_acc的值\n",
    "loss_pattern = r'train_loss = ([\\d.]+)'\n",
    "acc_pattern = r'train_acc = ([\\d.]+)'\n",
    "\n",
    "# 提取train_loss和train_acc的值\n",
    "loss_matches = re.findall(loss_pattern, log_content)\n",
    "acc_matches = re.findall(acc_pattern, log_content)\n",
    "\n",
    "# 打印train_loss和train_acc的值\n",
    "for i in range(len(loss_matches)):\n",
    "    print(f\"Epoch {i+1}: train_loss = {loss_matches[i]}, train_acc = {acc_matches[i]}\")"
   ]
  },
  {
   "cell_type": "code",
   "execution_count": null,
   "id": "a124c7fc",
   "metadata": {},
   "outputs": [],
   "source": []
  },
  {
   "cell_type": "code",
   "execution_count": null,
   "id": "4e314e62",
   "metadata": {},
   "outputs": [],
   "source": []
  }
 ],
 "metadata": {
  "kernelspec": {
   "display_name": "Python 3 (ipykernel)",
   "language": "python",
   "name": "python3"
  },
  "language_info": {
   "codemirror_mode": {
    "name": "ipython",
    "version": 3
   },
   "file_extension": ".py",
   "mimetype": "text/x-python",
   "name": "python",
   "nbconvert_exporter": "python",
   "pygments_lexer": "ipython3",
   "version": "3.8.5"
  },
  "toc": {
   "nav_menu": {},
   "number_sections": true,
   "sideBar": true,
   "skip_h1_title": false,
   "title_cell": "Table of Contents",
   "title_sidebar": "Contents",
   "toc_cell": false,
   "toc_position": {},
   "toc_section_display": true,
   "toc_window_display": false
  }
 },
 "nbformat": 4,
 "nbformat_minor": 5
}